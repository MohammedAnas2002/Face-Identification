{
 "cells": [
  {
   "cell_type": "code",
   "execution_count": null,
   "id": "edba8873-8942-452e-936d-631ad7449006",
   "metadata": {},
   "outputs": [
    {
     "name": "stdout",
     "output_type": "stream",
     "text": [
      "Saved the image with detections to: C:/Users/CG Lab/Pictures/img\\output_image.jpg\n"
     ]
    }
   ],
   "source": [
    "import cv2\n",
    "import os\n",
    "\n",
    "# Load pre-trained MobileNet SSD model and class labels\n",
    "prototxt_path = \"C:/Users/CG Lab/Downloads/deploy.prototxt\"  # Model configuration file\n",
    "model_path = \"C:/Users/CG Lab/Downloads/mobilenet_iter_73000.caffemodel\"  # Pre-trained weights file\n",
    "net = cv2.dnn.readNetFromCaffe(prototxt_path, model_path)\n",
    "\n",
    "# Define the class labels (COCO dataset subset for MobileNet SSD)\n",
    "classes = [\"background\", \"aeroplane\", \"bicycle\", \"bird\", \"boat\",\n",
    "           \"bottle\", \"bus\", \"car\", \"cat\", \"chair\", \"cow\", \"diningtable\",\n",
    "           \"dog\", \"horse\", \"motorbike\", \"person\", \"pottedplant\",\n",
    "           \"sheep\", \"sofa\", \"train\", \"tvmonitor\"]\n",
    "\n",
    "# Function to detect objects and save the image\n",
    "def detect_objects_and_save(image_path, output_directory):\n",
    "    # Load the input image\n",
    "    image = cv2.imread(image_path)\n",
    "    if image is None:\n",
    "        print(\"Error: Image not found.\")\n",
    "        return\n",
    "    h, w = image.shape[:2]\n",
    "\n",
    "    # Preprocess the image for the model\n",
    "    blob = cv2.dnn.blobFromImage(image, 0.007843, (300, 300), (127.5, 127.5, 127.5), False)\n",
    "    net.setInput(blob)\n",
    "    detections = net.forward()\n",
    "\n",
    "    # Loop through detections\n",
    "    for i in range(detections.shape[2]):\n",
    "        confidence = detections[0, 0, i, 2]  # Confidence score\n",
    "        if confidence > 0.4:  # Confidence threshold\n",
    "            class_id = int(detections[0, 0, i, 1])\n",
    "            class_name = classes[class_id]\n",
    "\n",
    "            # Only draw boxes for specific classes\n",
    "            if class_name in [\"person\", \"bicycle\", \"car\", \"bus\", \"cow\", \"cat\", \"train\", \"indian people\", \"Chine\"]:\n",
    "                box = detections[0, 0, i, 3:7] * [w, h, w, h]\n",
    "                x1, y1, x2, y2 = box.astype(\"int\")\n",
    "\n",
    "                # Draw rectangle and label\n",
    "                label = f\"{class_name}: {confidence:.2f}\"\n",
    "                cv2.rectangle(image, (x1, y1), (x2, y2), (0, 255, 0), 2)\n",
    "                cv2.putText(image, label, (x1, y1 - 10), cv2.FONT_HERSHEY_SIMPLEX, 0.6, (0, 255, 0), 2)\n",
    "\n",
    "    # Create the output directory if it doesn't exist\n",
    "    if not os.path.exists(output_directory):\n",
    "        os.makedirs(output_directory)\n",
    "\n",
    "    # Save the resulting image\n",
    "    output_path = os.path.join(output_directory, \"output_image.jpg\")\n",
    "    cv2.imwrite(output_path, image)\n",
    "    print(f\"Saved the image with detections to: {output_path}\")\n",
    "\n",
    "    # Display the output image\n",
    "    cv2.imshow(\"Detected Objects\", image)\n",
    "    cv2.waitKey(0)\n",
    "    cv2.destroyAllWindows()\n",
    "\n",
    "# Path to the input image and output directory\n",
    "input_image_path =\"C:/Users/CG Lab/Downloads/cat-favorite-person-min.png\" # Replace with your image path\n",
    "output_directory = r\"C:/Users/CG Lab/Pictures/img\"  # Output directory\n",
    "\n",
    "# Detect objects and save the resulting image\n",
    "detect_objects_and_save(input_image_path, output_directory)"
   ]
  },
  {
   "cell_type": "code",
   "execution_count": null,
   "id": "c1f3125c-858b-4b1d-8618-e7567a7e2c45",
   "metadata": {},
   "outputs": [],
   "source": []
  }
 ],
 "metadata": {
  "kernelspec": {
   "display_name": "Python 3 (ipykernel)",
   "language": "python",
   "name": "python3"
  },
  "language_info": {
   "codemirror_mode": {
    "name": "ipython",
    "version": 3
   },
   "file_extension": ".py",
   "mimetype": "text/x-python",
   "name": "python",
   "nbconvert_exporter": "python",
   "pygments_lexer": "ipython3",
   "version": "3.11.7"
  }
 },
 "nbformat": 4,
 "nbformat_minor": 5
}
