{
 "cells": [
  {
   "cell_type": "code",
   "execution_count": 1,
   "id": "af634e06-1395-4976-8cd5-37a58e415848",
   "metadata": {},
   "outputs": [],
   "source": [
    "import cv2\n",
    "import numpy as np\n",
    "\n",
    "# Load the image\n",
    "image = cv2.imread(\"C:/Users/CG Lab/Downloads/images1404203_anh1nuthamhaivan_EPCX.jpg\")\n",
    "\n",
    "# Step 1: Convert the image to grayscale\n",
    "gray = cv2.cvtColor(image, cv2.COLOR_BGR2GRAY)\n",
    "\n",
    "# Step 2: Apply GaussianBlur to reduce noise\n",
    "blurred = cv2.GaussianBlur(gray, (5, 5), 0)\n",
    "\n",
    "# Step 3: Perform edge detection using the Canny method\n",
    "edges = cv2.Canny(blurred, 100, 200)\n",
    "\n",
    "# Step 4: Use thresholding to highlight the cracks\n",
    "_, thresholded = cv2.threshold(edges, 127, 255, cv2.THRESH_BINARY)\n",
    "\n",
    "# Step 5: Find contours to detect cracks\n",
    "contours, _ = cv2.findContours(thresholded, cv2.RETR_EXTERNAL, cv2.CHAIN_APPROX_SIMPLE)\n",
    "\n",
    "# Step 6: Draw the contours on the original image\n",
    "result_image = image.copy()\n",
    "cv2.drawContours(result_image, contours, -1, (0, 255, 0), 2)\n",
    "\n",
    "# Step 7: Show the original image and the result\n",
    "cv2.imshow(\"Original Image\", image)\n",
    "cv2.imshow(\"Crack Detection Result\", result_image)\n",
    "\n",
    "# Wait for a key press and close the image windows\n",
    "cv2.waitKey(0)\n",
    "cv2.destroyAllWindows()\n"
   ]
  },
  {
   "cell_type": "code",
   "execution_count": null,
   "id": "3607102b-5742-4bf0-af22-3a349af2ef1d",
   "metadata": {},
   "outputs": [],
   "source": []
  }
 ],
 "metadata": {
  "kernelspec": {
   "display_name": "Python 3 (ipykernel)",
   "language": "python",
   "name": "python3"
  },
  "language_info": {
   "codemirror_mode": {
    "name": "ipython",
    "version": 3
   },
   "file_extension": ".py",
   "mimetype": "text/x-python",
   "name": "python",
   "nbconvert_exporter": "python",
   "pygments_lexer": "ipython3",
   "version": "3.11.7"
  }
 },
 "nbformat": 4,
 "nbformat_minor": 5
}
